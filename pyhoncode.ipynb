# 📦 Install yt-dlp for downloading Instagram Reels
!pip install -q yt-dlp

# 🔽 Download Public Instagram Reels in Highest Quality
import yt_dlp
from google.colab import files
import glob

def download_instagram_reel(url):
    # Configure yt-dlp to download the best available quality
    ydl_opts = {
        'format': 'bestvideo+bestaudio/best',  # Highest video and audio quality
        'outtmpl': '/content/%(title)s.%(ext)s',  # Save to Colab's content directory
        'merge_output_format': 'mp4',  # Output format
        'quiet': False,  # Show download progress
    }

    try:
        with yt_dlp.YoutubeDL(ydl_opts) as ydl:
            print("📥 Downloading the reel...")
            ydl.download([url])
            print("✅ Download completed successfully!")
    except Exception as e:
        print(f"❌ Error: {e}")

def download_to_device():
    # Search for downloaded video files in Colab's content folder
    video_files = glob.glob('/content/*.mp4')
    if video_files:
        for video in video_files:
            print(f"📂 Preparing to download: {video}")
            files.download(video)
        print("📦 Download ready!")
    else:
        print("⚠️ No video found. Please check the URL and try again.")

# 🔗 Input the Public Instagram Reel URL
reel_url = input("🔗 Enter the public Instagram Reel URL: ")

# ⬇️ Download Reel
download_instagram_reel(reel_url)

# 📥 Download the file to your local device
download_to_device()
